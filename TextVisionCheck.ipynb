{
 "cells": [
  {
   "cell_type": "markdown",
   "id": "a082a5d4-ba86-4fc9-a642-49494de2f696",
   "metadata": {},
   "source": [
    "print(\"Jupyter setup successful\")"
   ]
  },
  {
   "cell_type": "code",
   "execution_count": 1,
   "id": "40cf6e8b-8d14-4c9f-a055-0d58ca0ff3b5",
   "metadata": {},
   "outputs": [],
   "source": [
    "import pytesseract"
   ]
  },
  {
   "cell_type": "code",
   "execution_count": 2,
   "id": "b4224096-7a3d-4652-a87c-1b1ac08f232b",
   "metadata": {},
   "outputs": [
    {
     "name": "stdout",
     "output_type": "stream",
     "text": [
      "<module 'pytesseract' from 'C:\\\\Python311\\\\Lib\\\\site-packages\\\\pytesseract\\\\__init__.py'>\n"
     ]
    }
   ],
   "source": [
    "print(pytesseract)"
   ]
  },
  {
   "cell_type": "markdown",
   "id": "910b1af0-25eb-45eb-9a93-7f4d56c84c4a",
   "metadata": {},
   "source": [
    "pytesseract installed successfully"
   ]
  },
  {
   "cell_type": "code",
   "execution_count": 3,
   "id": "6e082eca-56ed-42df-84a8-d0d32aa61c85",
   "metadata": {},
   "outputs": [
    {
     "name": "stdout",
     "output_type": "stream",
     "text": [
      "Gotham Book\n",
      "\n",
      "The five boxing wizards jump quickly.\n",
      "\n",
      "Gotham Bold\n",
      "\n",
      "The five boxing wizards jump quickly.\n",
      "\n",
      "Archer Bold\n",
      "\n",
      "The five boxing wizards jump quickly.\n",
      "\n",
      "DDC HARDWARE\n",
      "\n",
      "THE FIVE BOXING WIZARDS JUMP QUICKLY,\n",
      "\n",
      "DOC HARDWARE CONDENSED\n",
      "\n",
      "THE FIVE BOXING WIZARDS JUMP QUICKLY.\n",
      "\n",
      "Freight Text Pro Book\n",
      "\n",
      "The five boxing wizards jump quickly.\n",
      "\n",
      "Freight Text Pro Bold\n",
      "\n",
      "The five boxing wizards jump quickly.\n",
      "\n",
      "Matchbook\n",
      "\n",
      "The five boxing wizards jump quickly.\n",
      "\n",
      "BROTHERS BOLD\n",
      "\n",
      "THE FIVE BOXING WIZARDS JUMP QUICKLY.\n",
      "\n",
      "Quincy CF Bold\n",
      "\n",
      "The five boxing wizards jump quickly.\n",
      "\n",
      "REAPOW\n",
      "\n",
      "THE FIVE BOXING WIZARDS JUMP QUICKLY.\n",
      "\n",
      "ol lund.\n",
      "[oe fore basing wigardigpane yscelly\n",
      "Addington Medium\n",
      "\n",
      "The five boxing wizards jump quickly.\n",
      "\n",
      "ATREK EXTRABOLD\n",
      "\n",
      "THE FIVE BOXING WIZARDS JUMP QUICKLY.\n",
      "\n",
      "Voga Medium\n",
      "\n",
      "The five hoxing wizards jump quickly.\n",
      "\n",
      "Open Sans\n",
      "\n",
      "The five boxing wizards jump quickly.\n",
      "\n",
      "BRANDON GROTESQUE\n",
      "\n",
      "THE FIVE BOXING WIZARDS JUMP QUICKLY.\n",
      "\n",
      "Geogrotesque Bold\n",
      "\n",
      "The five boxing wizards jump quickly.\n",
      "\n",
      "Proxima Nova\n",
      "\n",
      "The five boxing wizards jump quickly.\n",
      "\n",
      "HANSIEF\n",
      "\n",
      "THE FIVE BOXING WIZARDS JUMP QUICKLY.\n",
      "\n",
      "CRAFTER ROUGH\n",
      "\n",
      "THE FIVE BOXING WIZARDS JUMP QUICKLY.\n",
      "\n",
      "Trade Gothic Bold Condensed\n",
      "\n",
      "The five boxing wizards jump quickly.\n",
      "\n",
      "EVELETH CLEAN\n",
      "\n",
      "THE FIVE BOXING WIZARDS JUMP QUICKLY.\n",
      "\n",
      "Gastromond\n",
      "\n",
      "The five boxing wizards jump quickly.\n",
      "\n",
      "CUBANO\n",
      "\n",
      "THE FIVE BOXING WIZARDS JUMP QUICKLY.\n",
      "Playfair Display Bold\n",
      "\n",
      "The five boxing wizards jump quickly.\n",
      "\n",
      "Segui UI Black\n",
      "\n",
      "The five boxing wizards jump quickly.\n",
      "\n"
     ]
    }
   ],
   "source": [
    "from PIL import Image\n",
    "firstImage = Image.open(\"D:\\\\My Projects\\\\Jupyter\\\\manyFontsTest.jpg\")\n",
    "print(pytesseract.image_to_string(firstImage))"
   ]
  },
  {
   "cell_type": "markdown",
   "id": "245daef4-3037-4782-9967-3a8a73d7cb8b",
   "metadata": {},
   "source": [
    "Here are the two fonts that did not pass the test:\n",
    "\n",
    "ol lund. (Holland)\n",
    "\n",
    "[oe fore basing wigardigpane yscelly\n",
    "\n",
    "Voga Medium\n",
    "\n",
    "The five hoxing wizards jump quickly."
   ]
  },
  {
   "cell_type": "markdown",
   "id": "38a66995-8e48-4a9f-ab80-d17454913af1",
   "metadata": {},
   "source": [
    "Actually, it is completly understandable. They are barely comprehensible even to the human eye."
   ]
  }
 ],
 "metadata": {
  "kernelspec": {
   "display_name": "Python 3 (ipykernel)",
   "language": "python",
   "name": "python3"
  },
  "language_info": {
   "codemirror_mode": {
    "name": "ipython",
    "version": 3
   },
   "file_extension": ".py",
   "mimetype": "text/x-python",
   "name": "python",
   "nbconvert_exporter": "python",
   "pygments_lexer": "ipython3",
   "version": "3.11.4"
  }
 },
 "nbformat": 4,
 "nbformat_minor": 5
}
